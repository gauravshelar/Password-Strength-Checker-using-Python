{
 "cells": [
  {
   "cell_type": "markdown",
   "id": "ddebd5e3",
   "metadata": {},
   "source": [
    "# Password Strength Checker using Python..."
   ]
  },
  {
   "cell_type": "markdown",
   "id": "551232cd",
   "metadata": {},
   "source": [
    "Password Strength Checker is an application that checks how strong a password is. Some popular password strength meters use machine learning algorithms to predict the strength of your password. So, if you want to learn how to use machine learning to check your password’s strength, this article is for you. In this article, I will take you through how to create a password strength checker with machine learning using Python."
   ]
  },
  {
   "cell_type": "markdown",
   "id": "6f1d69e8",
   "metadata": {},
   "source": [
    "#### How to Create a Password Strength Checker?\n",
    "A password strength checker works by understanding the combination of digits, letters, and special symbols you use in your password. It is created by training a machine learning model on a labelled dataset of different combinations of letters and special symbols people use in passwords. The model learns from data about what combinations of letters and symbols can be classified as a solid or weak password.\n",
    "\n",
    "So to create an application to check the strength of passwords, we need to have a labelled dataset about different combinations of letters and symbols. I found a dataset on Kaggle to train a machine learning model to predict the strength of a password. We can use that data for this task. You can download the dataset from here.\n",
    "\n",
    "In the section below, I will take you through how to use Machine Learning to create a password strength checker using Python."
   ]
  },
  {
   "cell_type": "markdown",
   "id": "b85e3a12",
   "metadata": {},
   "source": [
    "##### Let’s start by importing the necessary Python libraries and the dataset we need for creating a password strength checker:"
   ]
  },
  {
   "cell_type": "code",
   "execution_count": 1,
   "id": "06873428",
   "metadata": {},
   "outputs": [],
   "source": [
    "import pandas as pd \n",
    "import numpy as np\n",
    "import warnings\n",
    "warnings.filterwarnings('ignore')\n",
    "from sklearn.feature_extraction.text import CountVectorizer\n",
    "from sklearn.feature_extraction.text import TfidfVectorizer\n",
    "from sklearn.ensemble import RandomForestClassifier\n",
    "from sklearn.model_selection import train_test_split"
   ]
  },
  {
   "cell_type": "code",
   "execution_count": 2,
   "id": "3e021c3f",
   "metadata": {},
   "outputs": [
    {
     "name": "stderr",
     "output_type": "stream",
     "text": [
      "Skipping line 2810: expected 2 fields, saw 5\n",
      "Skipping line 4641: expected 2 fields, saw 5\n",
      "Skipping line 7171: expected 2 fields, saw 5\n",
      "Skipping line 11220: expected 2 fields, saw 5\n",
      "Skipping line 13809: expected 2 fields, saw 5\n",
      "Skipping line 14132: expected 2 fields, saw 5\n",
      "Skipping line 14293: expected 2 fields, saw 5\n",
      "Skipping line 14865: expected 2 fields, saw 5\n",
      "Skipping line 17419: expected 2 fields, saw 5\n",
      "Skipping line 22801: expected 2 fields, saw 5\n",
      "Skipping line 25001: expected 2 fields, saw 5\n",
      "Skipping line 26603: expected 2 fields, saw 5\n",
      "Skipping line 26742: expected 2 fields, saw 5\n",
      "Skipping line 29702: expected 2 fields, saw 5\n",
      "Skipping line 32767: expected 2 fields, saw 5\n",
      "Skipping line 32878: expected 2 fields, saw 5\n",
      "Skipping line 35643: expected 2 fields, saw 5\n",
      "Skipping line 36550: expected 2 fields, saw 5\n",
      "Skipping line 38732: expected 2 fields, saw 5\n",
      "Skipping line 40567: expected 2 fields, saw 5\n",
      "Skipping line 40576: expected 2 fields, saw 5\n",
      "Skipping line 41864: expected 2 fields, saw 5\n",
      "Skipping line 46861: expected 2 fields, saw 5\n",
      "Skipping line 47939: expected 2 fields, saw 5\n",
      "Skipping line 48628: expected 2 fields, saw 5\n",
      "Skipping line 48908: expected 2 fields, saw 5\n",
      "Skipping line 57582: expected 2 fields, saw 5\n",
      "Skipping line 58782: expected 2 fields, saw 5\n",
      "Skipping line 58984: expected 2 fields, saw 5\n",
      "Skipping line 61518: expected 2 fields, saw 5\n",
      "Skipping line 63451: expected 2 fields, saw 5\n",
      "Skipping line 68141: expected 2 fields, saw 5\n",
      "Skipping line 72083: expected 2 fields, saw 5\n",
      "Skipping line 74027: expected 2 fields, saw 5\n",
      "Skipping line 77811: expected 2 fields, saw 5\n",
      "Skipping line 83958: expected 2 fields, saw 5\n",
      "Skipping line 85295: expected 2 fields, saw 5\n",
      "Skipping line 88665: expected 2 fields, saw 5\n",
      "Skipping line 89198: expected 2 fields, saw 5\n",
      "Skipping line 92499: expected 2 fields, saw 5\n",
      "Skipping line 92751: expected 2 fields, saw 5\n",
      "Skipping line 93689: expected 2 fields, saw 5\n",
      "Skipping line 94776: expected 2 fields, saw 5\n",
      "Skipping line 97334: expected 2 fields, saw 5\n",
      "Skipping line 102316: expected 2 fields, saw 5\n",
      "Skipping line 103421: expected 2 fields, saw 5\n",
      "Skipping line 106872: expected 2 fields, saw 5\n",
      "Skipping line 109363: expected 2 fields, saw 5\n",
      "Skipping line 110117: expected 2 fields, saw 5\n",
      "Skipping line 110465: expected 2 fields, saw 5\n",
      "Skipping line 113843: expected 2 fields, saw 5\n",
      "Skipping line 115634: expected 2 fields, saw 5\n",
      "Skipping line 121518: expected 2 fields, saw 5\n",
      "Skipping line 123692: expected 2 fields, saw 5\n",
      "Skipping line 124708: expected 2 fields, saw 5\n",
      "Skipping line 129608: expected 2 fields, saw 5\n",
      "Skipping line 133176: expected 2 fields, saw 5\n",
      "Skipping line 135532: expected 2 fields, saw 5\n",
      "Skipping line 138042: expected 2 fields, saw 5\n",
      "Skipping line 139485: expected 2 fields, saw 5\n",
      "Skipping line 140401: expected 2 fields, saw 5\n",
      "Skipping line 144093: expected 2 fields, saw 5\n",
      "Skipping line 149850: expected 2 fields, saw 5\n",
      "Skipping line 151831: expected 2 fields, saw 5\n",
      "Skipping line 158014: expected 2 fields, saw 5\n",
      "Skipping line 162047: expected 2 fields, saw 5\n",
      "Skipping line 164515: expected 2 fields, saw 5\n",
      "Skipping line 170313: expected 2 fields, saw 5\n",
      "Skipping line 171325: expected 2 fields, saw 5\n",
      "Skipping line 171424: expected 2 fields, saw 5\n",
      "Skipping line 175920: expected 2 fields, saw 5\n",
      "Skipping line 176210: expected 2 fields, saw 5\n",
      "Skipping line 183603: expected 2 fields, saw 5\n",
      "Skipping line 190264: expected 2 fields, saw 5\n",
      "Skipping line 191683: expected 2 fields, saw 5\n",
      "Skipping line 191988: expected 2 fields, saw 5\n",
      "Skipping line 195450: expected 2 fields, saw 5\n",
      "Skipping line 195754: expected 2 fields, saw 5\n",
      "Skipping line 197124: expected 2 fields, saw 5\n",
      "Skipping line 199263: expected 2 fields, saw 5\n",
      "Skipping line 202603: expected 2 fields, saw 5\n",
      "Skipping line 209960: expected 2 fields, saw 5\n",
      "Skipping line 213218: expected 2 fields, saw 5\n",
      "Skipping line 217060: expected 2 fields, saw 5\n",
      "Skipping line 220121: expected 2 fields, saw 5\n",
      "Skipping line 223518: expected 2 fields, saw 5\n",
      "Skipping line 226293: expected 2 fields, saw 5\n",
      "Skipping line 227035: expected 2 fields, saw 7\n",
      "Skipping line 227341: expected 2 fields, saw 5\n",
      "Skipping line 227808: expected 2 fields, saw 5\n",
      "Skipping line 228516: expected 2 fields, saw 5\n",
      "Skipping line 228733: expected 2 fields, saw 5\n",
      "Skipping line 232043: expected 2 fields, saw 5\n",
      "Skipping line 232426: expected 2 fields, saw 5\n",
      "Skipping line 234490: expected 2 fields, saw 5\n",
      "Skipping line 239626: expected 2 fields, saw 5\n",
      "Skipping line 240461: expected 2 fields, saw 5\n",
      "Skipping line 244518: expected 2 fields, saw 5\n",
      "Skipping line 245395: expected 2 fields, saw 5\n",
      "Skipping line 246168: expected 2 fields, saw 5\n",
      "Skipping line 246655: expected 2 fields, saw 5\n",
      "Skipping line 246752: expected 2 fields, saw 5\n",
      "Skipping line 247189: expected 2 fields, saw 5\n",
      "Skipping line 250276: expected 2 fields, saw 5\n",
      "Skipping line 255327: expected 2 fields, saw 5\n",
      "Skipping line 257094: expected 2 fields, saw 5\n",
      "\n",
      "Skipping line 264626: expected 2 fields, saw 5\n",
      "Skipping line 265028: expected 2 fields, saw 5\n",
      "Skipping line 269150: expected 2 fields, saw 5\n",
      "Skipping line 271360: expected 2 fields, saw 5\n",
      "Skipping line 273975: expected 2 fields, saw 5\n",
      "Skipping line 274742: expected 2 fields, saw 5\n",
      "Skipping line 276227: expected 2 fields, saw 5\n",
      "Skipping line 279807: expected 2 fields, saw 5\n",
      "Skipping line 283425: expected 2 fields, saw 5\n",
      "Skipping line 287468: expected 2 fields, saw 5\n",
      "Skipping line 292995: expected 2 fields, saw 5\n",
      "Skipping line 293496: expected 2 fields, saw 5\n",
      "Skipping line 293735: expected 2 fields, saw 5\n",
      "Skipping line 295060: expected 2 fields, saw 5\n",
      "Skipping line 296643: expected 2 fields, saw 5\n",
      "Skipping line 296848: expected 2 fields, saw 5\n",
      "Skipping line 308926: expected 2 fields, saw 5\n",
      "Skipping line 310360: expected 2 fields, saw 5\n",
      "Skipping line 317004: expected 2 fields, saw 5\n",
      "Skipping line 318207: expected 2 fields, saw 5\n",
      "Skipping line 331783: expected 2 fields, saw 5\n",
      "Skipping line 333864: expected 2 fields, saw 5\n",
      "Skipping line 335958: expected 2 fields, saw 5\n",
      "Skipping line 336290: expected 2 fields, saw 5\n",
      "Skipping line 343526: expected 2 fields, saw 5\n",
      "Skipping line 343857: expected 2 fields, saw 5\n",
      "Skipping line 344059: expected 2 fields, saw 5\n",
      "Skipping line 348691: expected 2 fields, saw 5\n",
      "Skipping line 353446: expected 2 fields, saw 5\n",
      "Skipping line 357073: expected 2 fields, saw 5\n",
      "Skipping line 359753: expected 2 fields, saw 5\n",
      "Skipping line 359974: expected 2 fields, saw 5\n",
      "Skipping line 366534: expected 2 fields, saw 5\n",
      "Skipping line 369514: expected 2 fields, saw 5\n",
      "Skipping line 377759: expected 2 fields, saw 5\n",
      "Skipping line 379327: expected 2 fields, saw 5\n",
      "Skipping line 380769: expected 2 fields, saw 5\n",
      "Skipping line 381073: expected 2 fields, saw 5\n",
      "Skipping line 381489: expected 2 fields, saw 5\n",
      "Skipping line 386304: expected 2 fields, saw 5\n",
      "Skipping line 387635: expected 2 fields, saw 5\n",
      "Skipping line 389613: expected 2 fields, saw 5\n",
      "Skipping line 392604: expected 2 fields, saw 5\n",
      "Skipping line 393184: expected 2 fields, saw 5\n",
      "Skipping line 395530: expected 2 fields, saw 5\n",
      "Skipping line 396939: expected 2 fields, saw 5\n",
      "Skipping line 397385: expected 2 fields, saw 5\n",
      "Skipping line 397509: expected 2 fields, saw 5\n",
      "Skipping line 402902: expected 2 fields, saw 5\n",
      "Skipping line 405187: expected 2 fields, saw 5\n",
      "Skipping line 408412: expected 2 fields, saw 5\n",
      "Skipping line 419423: expected 2 fields, saw 5\n",
      "Skipping line 420962: expected 2 fields, saw 5\n",
      "Skipping line 425965: expected 2 fields, saw 5\n",
      "Skipping line 427496: expected 2 fields, saw 5\n",
      "Skipping line 438881: expected 2 fields, saw 5\n",
      "Skipping line 439776: expected 2 fields, saw 5\n",
      "Skipping line 440345: expected 2 fields, saw 5\n",
      "Skipping line 445507: expected 2 fields, saw 5\n",
      "Skipping line 445548: expected 2 fields, saw 5\n",
      "Skipping line 447184: expected 2 fields, saw 5\n",
      "Skipping line 448603: expected 2 fields, saw 5\n",
      "Skipping line 451732: expected 2 fields, saw 5\n",
      "Skipping line 458249: expected 2 fields, saw 5\n",
      "Skipping line 460274: expected 2 fields, saw 5\n",
      "Skipping line 467630: expected 2 fields, saw 5\n",
      "Skipping line 473961: expected 2 fields, saw 5\n",
      "Skipping line 476281: expected 2 fields, saw 5\n",
      "Skipping line 478010: expected 2 fields, saw 5\n",
      "Skipping line 478322: expected 2 fields, saw 5\n",
      "Skipping line 479999: expected 2 fields, saw 5\n",
      "Skipping line 480898: expected 2 fields, saw 5\n",
      "Skipping line 481688: expected 2 fields, saw 5\n",
      "Skipping line 485193: expected 2 fields, saw 5\n",
      "Skipping line 485519: expected 2 fields, saw 5\n",
      "Skipping line 486000: expected 2 fields, saw 5\n",
      "Skipping line 489063: expected 2 fields, saw 5\n",
      "Skipping line 494525: expected 2 fields, saw 5\n",
      "Skipping line 495009: expected 2 fields, saw 5\n",
      "Skipping line 501954: expected 2 fields, saw 5\n",
      "Skipping line 508035: expected 2 fields, saw 5\n",
      "Skipping line 508828: expected 2 fields, saw 5\n",
      "Skipping line 509833: expected 2 fields, saw 5\n",
      "Skipping line 510410: expected 2 fields, saw 5\n",
      "Skipping line 518229: expected 2 fields, saw 5\n",
      "Skipping line 520302: expected 2 fields, saw 5\n",
      "Skipping line 520340: expected 2 fields, saw 5\n",
      "\n",
      "Skipping line 525174: expected 2 fields, saw 5\n",
      "Skipping line 526251: expected 2 fields, saw 5\n",
      "Skipping line 529611: expected 2 fields, saw 5\n",
      "Skipping line 531398: expected 2 fields, saw 5\n",
      "Skipping line 534146: expected 2 fields, saw 5\n",
      "Skipping line 544954: expected 2 fields, saw 5\n",
      "Skipping line 553002: expected 2 fields, saw 5\n",
      "Skipping line 553883: expected 2 fields, saw 5\n",
      "Skipping line 553887: expected 2 fields, saw 5\n",
      "Skipping line 553915: expected 2 fields, saw 5\n",
      "Skipping line 554172: expected 2 fields, saw 5\n",
      "Skipping line 563534: expected 2 fields, saw 5\n",
      "Skipping line 565191: expected 2 fields, saw 5\n",
      "Skipping line 574108: expected 2 fields, saw 5\n",
      "Skipping line 574412: expected 2 fields, saw 5\n",
      "Skipping line 575985: expected 2 fields, saw 5\n",
      "Skipping line 580091: expected 2 fields, saw 5\n",
      "Skipping line 582682: expected 2 fields, saw 5\n",
      "Skipping line 585885: expected 2 fields, saw 5\n",
      "Skipping line 590171: expected 2 fields, saw 5\n",
      "Skipping line 591924: expected 2 fields, saw 5\n",
      "Skipping line 592515: expected 2 fields, saw 5\n",
      "Skipping line 593888: expected 2 fields, saw 5\n",
      "Skipping line 596245: expected 2 fields, saw 5\n",
      "Skipping line 607344: expected 2 fields, saw 5\n",
      "Skipping line 607633: expected 2 fields, saw 5\n",
      "Skipping line 610939: expected 2 fields, saw 5\n",
      "Skipping line 613638: expected 2 fields, saw 5\n",
      "Skipping line 615643: expected 2 fields, saw 5\n",
      "Skipping line 615901: expected 2 fields, saw 5\n",
      "Skipping line 617389: expected 2 fields, saw 5\n",
      "Skipping line 634641: expected 2 fields, saw 5\n",
      "Skipping line 635755: expected 2 fields, saw 5\n",
      "Skipping line 646243: expected 2 fields, saw 5\n",
      "Skipping line 647165: expected 2 fields, saw 5\n",
      "Skipping line 648610: expected 2 fields, saw 5\n",
      "Skipping line 648772: expected 2 fields, saw 5\n",
      "Skipping line 651833: expected 2 fields, saw 5\n",
      "Skipping line 653663: expected 2 fields, saw 5\n",
      "Skipping line 656233: expected 2 fields, saw 5\n",
      "Skipping line 656694: expected 2 fields, saw 5\n",
      "Skipping line 659783: expected 2 fields, saw 5\n",
      "Skipping line 660478: expected 2 fields, saw 5\n",
      "Skipping line 661133: expected 2 fields, saw 5\n",
      "Skipping line 661736: expected 2 fields, saw 5\n",
      "Skipping line 669827: expected 2 fields, saw 5\n",
      "\n"
     ]
    },
    {
     "data": {
      "text/html": [
       "<div>\n",
       "<style scoped>\n",
       "    .dataframe tbody tr th:only-of-type {\n",
       "        vertical-align: middle;\n",
       "    }\n",
       "\n",
       "    .dataframe tbody tr th {\n",
       "        vertical-align: top;\n",
       "    }\n",
       "\n",
       "    .dataframe thead th {\n",
       "        text-align: right;\n",
       "    }\n",
       "</style>\n",
       "<table border=\"1\" class=\"dataframe\">\n",
       "  <thead>\n",
       "    <tr style=\"text-align: right;\">\n",
       "      <th></th>\n",
       "      <th>password</th>\n",
       "      <th>strength</th>\n",
       "    </tr>\n",
       "  </thead>\n",
       "  <tbody>\n",
       "    <tr>\n",
       "      <th>0</th>\n",
       "      <td>kzde5577</td>\n",
       "      <td>1</td>\n",
       "    </tr>\n",
       "    <tr>\n",
       "      <th>1</th>\n",
       "      <td>kino3434</td>\n",
       "      <td>1</td>\n",
       "    </tr>\n",
       "    <tr>\n",
       "      <th>2</th>\n",
       "      <td>visi7k1yr</td>\n",
       "      <td>1</td>\n",
       "    </tr>\n",
       "    <tr>\n",
       "      <th>3</th>\n",
       "      <td>megzy123</td>\n",
       "      <td>1</td>\n",
       "    </tr>\n",
       "    <tr>\n",
       "      <th>4</th>\n",
       "      <td>lamborghin1</td>\n",
       "      <td>1</td>\n",
       "    </tr>\n",
       "  </tbody>\n",
       "</table>\n",
       "</div>"
      ],
      "text/plain": [
       "      password  strength\n",
       "0     kzde5577         1\n",
       "1     kino3434         1\n",
       "2    visi7k1yr         1\n",
       "3     megzy123         1\n",
       "4  lamborghin1         1"
      ]
     },
     "execution_count": 2,
     "metadata": {},
     "output_type": "execute_result"
    }
   ],
   "source": [
    "df = pd.read_csv('data.csv',error_bad_lines = False)\n",
    "df.head()"
   ]
  },
  {
   "cell_type": "code",
   "execution_count": 3,
   "id": "50a64097",
   "metadata": {},
   "outputs": [
    {
     "data": {
      "text/plain": [
       "(669640, 2)"
      ]
     },
     "execution_count": 3,
     "metadata": {},
     "output_type": "execute_result"
    }
   ],
   "source": [
    "df.shape"
   ]
  },
  {
   "cell_type": "code",
   "execution_count": 4,
   "id": "c86e6bbf",
   "metadata": {},
   "outputs": [
    {
     "data": {
      "text/plain": [
       "password     True\n",
       "strength    False\n",
       "dtype: bool"
      ]
     },
     "execution_count": 4,
     "metadata": {},
     "output_type": "execute_result"
    }
   ],
   "source": [
    "df.isna().any()"
   ]
  },
  {
   "cell_type": "markdown",
   "id": "7cddb0dc",
   "metadata": {},
   "source": [
    "##### The dataset has two columns; password and strength. In the strength column:\n",
    "\n",
    "0 means: the password’s strength is weak;\n",
    "\n",
    "1 means: the password’s strength is medium;\n",
    "\n",
    "2 means: the password’s strength is strong;\n",
    "\n",
    "\n",
    "Before moving forward, I will convert 0, 1, and 2 values in the strength column to weak, medium, and strong:"
   ]
  },
  {
   "cell_type": "code",
   "execution_count": 5,
   "id": "3ec603b9",
   "metadata": {},
   "outputs": [
    {
     "name": "stdout",
     "output_type": "stream",
     "text": [
      "                password strength\n",
      "98646           boiqpl88   Medium\n",
      "233222    Govinda@321Pav   Strong\n",
      "330883   EIJxPvDWFfKc0oW   Strong\n",
      "504297  ZelenGozdicek-12   Strong\n",
      "220617        bouchama06   Medium\n"
     ]
    }
   ],
   "source": [
    "df = df.dropna()\n",
    "\n",
    "df['strength'] = df['strength'].map({0:'Weak',\n",
    "                                     1:'Medium',\n",
    "                                     2:'Strong'})\n",
    "print(df.sample(5))"
   ]
  },
  {
   "cell_type": "code",
   "execution_count": 6,
   "id": "e04ddd50",
   "metadata": {},
   "outputs": [
    {
     "data": {
      "text/html": [
       "<div>\n",
       "<style scoped>\n",
       "    .dataframe tbody tr th:only-of-type {\n",
       "        vertical-align: middle;\n",
       "    }\n",
       "\n",
       "    .dataframe tbody tr th {\n",
       "        vertical-align: top;\n",
       "    }\n",
       "\n",
       "    .dataframe thead th {\n",
       "        text-align: right;\n",
       "    }\n",
       "</style>\n",
       "<table border=\"1\" class=\"dataframe\">\n",
       "  <thead>\n",
       "    <tr style=\"text-align: right;\">\n",
       "      <th></th>\n",
       "      <th>Count</th>\n",
       "      <th>Percentage</th>\n",
       "    </tr>\n",
       "  </thead>\n",
       "  <tbody>\n",
       "    <tr>\n",
       "      <th>password</th>\n",
       "      <td>0.0</td>\n",
       "      <td>0.0</td>\n",
       "    </tr>\n",
       "    <tr>\n",
       "      <th>strength</th>\n",
       "      <td>0.0</td>\n",
       "      <td>0.0</td>\n",
       "    </tr>\n",
       "  </tbody>\n",
       "</table>\n",
       "</div>"
      ],
      "text/plain": [
       "          Count  Percentage\n",
       "password    0.0         0.0\n",
       "strength    0.0         0.0"
      ]
     },
     "execution_count": 6,
     "metadata": {},
     "output_type": "execute_result"
    }
   ],
   "source": [
    "pd.DataFrame({'Count':df.isnull().sum(),'Percentage':df.isnull().sum()})/len(df)"
   ]
  },
  {
   "cell_type": "markdown",
   "id": "ea88221b",
   "metadata": {},
   "source": [
    "#### Password Strength Prediction Model\n",
    "Now let’s move to train a machine learning model to predict the strength of the password. Before we start preparing the model, we need to tokenize the passwords as we need the model to learn from the combinations of digits, letters, and symbols to predict the password’s strength. So here’s how we can tokenize and split the data into training and test sets:"
   ]
  },
  {
   "cell_type": "code",
   "execution_count": 7,
   "id": "b8e7c0f2",
   "metadata": {},
   "outputs": [],
   "source": [
    "def word(password):\n",
    "    character=[]\n",
    "    for i in password:\n",
    "        character.append(i)\n",
    "    return character\n",
    "  \n",
    "x = np.array(df[\"password\"])\n",
    "y = np.array(df[\"strength\"])\n",
    "\n",
    "tdif = TfidfVectorizer(tokenizer = word)\n",
    "x = tdif.fit_transform(x)\n",
    "\n",
    "x_train, x_test, y_train, y_test = train_test_split(x,y,test_size = 0.05,random_state=42)\n",
    "    "
   ]
  },
  {
   "cell_type": "markdown",
   "id": "55ff748a",
   "metadata": {},
   "source": [
    "#### Now here’s how to train a classificamtion model to predict the strength of the password:"
   ]
  },
  {
   "cell_type": "code",
   "execution_count": null,
   "id": "1c0d0a68",
   "metadata": {},
   "outputs": [],
   "source": [
    "model = RandomForestClassifier()\n",
    "model.fit(x_train,y_train)\n",
    "print(model.score(x_test,y_test))"
   ]
  },
  {
   "cell_type": "markdown",
   "id": "3ab260df",
   "metadata": {},
   "source": [
    "#### Now here’s how we can check the strength of a password using the trained model:"
   ]
  },
  {
   "cell_type": "code",
   "execution_count": null,
   "id": "63da8f33",
   "metadata": {},
   "outputs": [],
   "source": [
    "import getpass\n",
    "user = getpass.getpass('Enter PassWord:')\n",
    "data = tdif.transform([user]).toarray()\n",
    "output = model.predict(df)\n",
    "output"
   ]
  },
  {
   "cell_type": "markdown",
   "id": "99148e6b",
   "metadata": {},
   "source": [
    "#### Summary\n",
    "So this is how you can use machine learning to create a password’s strength checker using the Python programming language. A password strength checker works by understanding the combination of digits, letters, and special symbols you use in your password. I hope you liked this article on creating a password’s strength checker with Machine Learning using Python."
   ]
  }
 ],
 "metadata": {
  "kernelspec": {
   "display_name": "Python 3 (ipykernel)",
   "language": "python",
   "name": "python3"
  },
  "language_info": {
   "codemirror_mode": {
    "name": "ipython",
    "version": 3
   },
   "file_extension": ".py",
   "mimetype": "text/x-python",
   "name": "python",
   "nbconvert_exporter": "python",
   "pygments_lexer": "ipython3",
   "version": "3.9.12"
  }
 },
 "nbformat": 4,
 "nbformat_minor": 5
}
